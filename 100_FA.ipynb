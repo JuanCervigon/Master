{
  "nbformat": 4,
  "nbformat_minor": 0,
  "metadata": {
    "colab": {
      "provenance": [],
      "toc_visible": true,
      "mount_file_id": "1XYwWl9_ZOqFNUuDtVxzPlNk9X9zdh0No",
      "authorship_tag": "ABX9TyNnEacozSYyDF6NIjnlq+3S",
      "include_colab_link": true
    },
    "kernelspec": {
      "name": "python3",
      "display_name": "Python 3"
    },
    "language_info": {
      "name": "python"
    }
  },
  "cells": [
    {
      "cell_type": "markdown",
      "metadata": {
        "id": "view-in-github",
        "colab_type": "text"
      },
      "source": [
        "<a href=\"https://colab.research.google.com/github/JuanCervigon/Master/blob/main/100_FA.ipynb\" target=\"_parent\"><img src=\"https://colab.research.google.com/assets/colab-badge.svg\" alt=\"Open In Colab\"/></a>"
      ]
    },
    {
      "cell_type": "markdown",
      "source": [
        "# Analisis Factorial\n",
        "\n",
        "Para realizar FA, primero creamos un objeto (llamado fa) de la clase FactorAnalyzer() especificando valores relevantes para los hiperparámetros. Luego, llamamos a su método fit() para realizar FA. Proporcionamos datos escalados al método fit(). Luego llamamos a varios métodos y atributos del objeto fa para obtener toda la información que necesitamos.\n",
        "\n",
        "Podemos usar varias funciones print() para formatear la salida. Finalmente, llamamos al método transform() del objeto fa para obtener las puntuaciones de los factores.\n",
        "\n",
        "Finalmente, almacenamos los resultados en un archivo CSV y en un archivo Excel para uso futuro. La dimensión del nuevo conjunto de datos (reducido) es 55 x 2. Solo hay dos columnas. Esto se debe a que decidimos mantener solo dos factores que en conjunto explican alrededor del 81% de la variabilidad en los datos originales.\n"
      ],
      "metadata": {
        "id": "hcDPy2fe70Ig"
      }
    },
    {
      "cell_type": "markdown",
      "source": [
        "## Librerías\n",
        "\n",
        "Utilizamos la librería factor_analyzer, que implementa el método del factor principal para el cálculo de la matriz de cargas\n",
        "\n",
        "\n"
      ],
      "metadata": {
        "id": "C5Jq2XuF_Crp"
      }
    },
    {
      "cell_type": "code",
      "source": [
        "# instalamos la librería factor_analyzer\n",
        "!pip install factor_analyzer"
      ],
      "metadata": {
        "id": "xyhuR8kT78ad",
        "colab": {
          "base_uri": "https://localhost:8080/"
        },
        "outputId": "4b8fb852-1c70-469d-fbcb-2fb1628249fa"
      },
      "execution_count": null,
      "outputs": [
        {
          "output_type": "stream",
          "name": "stdout",
          "text": [
            "Collecting factor_analyzer\n",
            "  Downloading factor_analyzer-0.5.1.tar.gz (42 kB)\n",
            "\u001b[?25l     \u001b[90m━━━━━━━━━━━━━━━━━━━━━━━━━━━━━━━━━━━━━━━━\u001b[0m \u001b[32m0.0/42.8 kB\u001b[0m \u001b[31m?\u001b[0m eta \u001b[36m-:--:--\u001b[0m\r\u001b[2K     \u001b[91m━━━━━━━━━━━━━━━━━━━━━━━━━━━━━━━━━━━━━━\u001b[0m\u001b[90m╺\u001b[0m\u001b[90m━\u001b[0m \u001b[32m41.0/42.8 kB\u001b[0m \u001b[31m1.3 MB/s\u001b[0m eta \u001b[36m0:00:01\u001b[0m\r\u001b[2K     \u001b[90m━━━━━━━━━━━━━━━━━━━━━━━━━━━━━━━━━━━━━━━━\u001b[0m \u001b[32m42.8/42.8 kB\u001b[0m \u001b[31m849.4 kB/s\u001b[0m eta \u001b[36m0:00:00\u001b[0m\n",
            "\u001b[?25h  Installing build dependencies ... \u001b[?25l\u001b[?25hdone\n",
            "  Getting requirements to build wheel ... \u001b[?25l\u001b[?25hdone\n",
            "  Installing backend dependencies ... \u001b[?25l\u001b[?25hdone\n",
            "  Preparing metadata (pyproject.toml) ... \u001b[?25l\u001b[?25hdone\n",
            "Requirement already satisfied: pandas in /usr/local/lib/python3.10/dist-packages (from factor_analyzer) (2.0.3)\n",
            "Requirement already satisfied: scipy in /usr/local/lib/python3.10/dist-packages (from factor_analyzer) (1.11.4)\n",
            "Requirement already satisfied: numpy in /usr/local/lib/python3.10/dist-packages (from factor_analyzer) (1.25.2)\n",
            "Requirement already satisfied: scikit-learn in /usr/local/lib/python3.10/dist-packages (from factor_analyzer) (1.2.2)\n",
            "Requirement already satisfied: python-dateutil>=2.8.2 in /usr/local/lib/python3.10/dist-packages (from pandas->factor_analyzer) (2.8.2)\n",
            "Requirement already satisfied: pytz>=2020.1 in /usr/local/lib/python3.10/dist-packages (from pandas->factor_analyzer) (2023.4)\n",
            "Requirement already satisfied: tzdata>=2022.1 in /usr/local/lib/python3.10/dist-packages (from pandas->factor_analyzer) (2024.1)\n",
            "Requirement already satisfied: joblib>=1.1.1 in /usr/local/lib/python3.10/dist-packages (from scikit-learn->factor_analyzer) (1.3.2)\n",
            "Requirement already satisfied: threadpoolctl>=2.0.0 in /usr/local/lib/python3.10/dist-packages (from scikit-learn->factor_analyzer) (3.4.0)\n",
            "Requirement already satisfied: six>=1.5 in /usr/local/lib/python3.10/dist-packages (from python-dateutil>=2.8.2->pandas->factor_analyzer) (1.16.0)\n",
            "Building wheels for collected packages: factor_analyzer\n",
            "  Building wheel for factor_analyzer (pyproject.toml) ... \u001b[?25l\u001b[?25hdone\n",
            "  Created wheel for factor_analyzer: filename=factor_analyzer-0.5.1-py2.py3-none-any.whl size=42564 sha256=fffd491efa8b9be275da696ff54b2fe7ab2a314885fdd7bb9bca58087c9e200a\n",
            "  Stored in directory: /root/.cache/pip/wheels/24/59/82/6493618e30ed1cb7a013b9e1b0c9e17de80b04dfcef4ba8a4d\n",
            "Successfully built factor_analyzer\n",
            "Installing collected packages: factor_analyzer\n",
            "Successfully installed factor_analyzer-0.5.1\n"
          ]
        }
      ]
    },
    {
      "cell_type": "code",
      "source": [
        "# importamos las librerías necesarias\n",
        "import pandas as pd\n",
        "import numpy as np\n",
        "\n",
        "import matplotlib.pyplot as plt\n"
      ],
      "metadata": {
        "id": "WbGiRcQnN3_K"
      },
      "execution_count": null,
      "outputs": []
    },
    {
      "cell_type": "markdown",
      "source": [
        "## Datos\n",
        "\n",
        "Se utiliza una base de datos de los records nacionales femeninos en 55 países obtenidos en 7 modalidades\n",
        "\n",
        "* x1:    100m (segundos)\n",
        "* x2:    200m (segundos)\n",
        "* x3:    400m (segundos)\n",
        "* x4:    800m (minutos)\n",
        "* x5:  1.500m (minutos)\n",
        "* x6:  3.000m (minutos)\n",
        "* x7: Maraton (minutos)"
      ],
      "metadata": {
        "id": "cfoWsLtf_bQ2"
      }
    },
    {
      "cell_type": "code",
      "source": [
        "from google.colab import drive\n",
        "drive.mount('/content/drive')"
      ],
      "metadata": {
        "colab": {
          "base_uri": "https://localhost:8080/"
        },
        "id": "651N5e8ENinR",
        "outputId": "ef6c701c-fcb5-460e-ca2f-01e5f48ff16d"
      },
      "execution_count": null,
      "outputs": [
        {
          "output_type": "stream",
          "name": "stdout",
          "text": [
            "Mounted at /content/drive\n"
          ]
        }
      ]
    },
    {
      "cell_type": "code",
      "source": [
        "# Leer el fichero\n",
        "ruta='/content/drive/MyDrive/Data/women_track_records.csv'\n",
        "df = pd.read_csv(ruta)\n"
      ],
      "metadata": {
        "id": "fRhMb1Ns8V_e"
      },
      "execution_count": null,
      "outputs": []
    },
    {
      "cell_type": "code",
      "source": [
        "df"
      ],
      "metadata": {
        "id": "Re0GIT3_OMmh"
      },
      "execution_count": null,
      "outputs": []
    },
    {
      "cell_type": "code",
      "source": [
        "# seleccionar todas las variables excepto la primera\n",
        "x = df.iloc[:, 1:8]\n",
        "\n",
        "# estandarizar los datos\n",
        "from sklearn.preprocessing import StandardScaler\n",
        "estandarizar = StandardScaler()\n",
        "x_std = estandarizar.fit_transform(x)"
      ],
      "metadata": {
        "id": "GE9N_vxkOw5M"
      },
      "execution_count": null,
      "outputs": []
    },
    {
      "cell_type": "markdown",
      "source": [
        "# Estimar el modelo FA\n"
      ],
      "metadata": {
        "id": "Eu-o9Lm1PWSq"
      }
    },
    {
      "cell_type": "code",
      "source": [
        "# instanciar un modelo de Analisis Factorial\n",
        "from factor_analyzer import FactorAnalyzer\n",
        "fa = FactorAnalyzer(n_factors=2, rotation=\"varimax\", method=\"principal\",\n",
        "                    is_corr_matrix=False)\n",
        "\n",
        "# ajustar los datos\n",
        "fa.fit(x_std)\n"
      ],
      "metadata": {
        "id": "b1NCqwAzCq2q",
        "colab": {
          "base_uri": "https://localhost:8080/",
          "height": 92
        },
        "outputId": "f867143e-2d4c-4674-c706-f29b230453c0"
      },
      "execution_count": null,
      "outputs": [
        {
          "output_type": "execute_result",
          "data": {
            "text/plain": [
              "FactorAnalyzer(method='principal', n_factors=2, rotation='varimax',\n",
              "               rotation_kwargs={})"
            ],
            "text/html": [
              "<style>#sk-container-id-1 {color: black;background-color: white;}#sk-container-id-1 pre{padding: 0;}#sk-container-id-1 div.sk-toggleable {background-color: white;}#sk-container-id-1 label.sk-toggleable__label {cursor: pointer;display: block;width: 100%;margin-bottom: 0;padding: 0.3em;box-sizing: border-box;text-align: center;}#sk-container-id-1 label.sk-toggleable__label-arrow:before {content: \"▸\";float: left;margin-right: 0.25em;color: #696969;}#sk-container-id-1 label.sk-toggleable__label-arrow:hover:before {color: black;}#sk-container-id-1 div.sk-estimator:hover label.sk-toggleable__label-arrow:before {color: black;}#sk-container-id-1 div.sk-toggleable__content {max-height: 0;max-width: 0;overflow: hidden;text-align: left;background-color: #f0f8ff;}#sk-container-id-1 div.sk-toggleable__content pre {margin: 0.2em;color: black;border-radius: 0.25em;background-color: #f0f8ff;}#sk-container-id-1 input.sk-toggleable__control:checked~div.sk-toggleable__content {max-height: 200px;max-width: 100%;overflow: auto;}#sk-container-id-1 input.sk-toggleable__control:checked~label.sk-toggleable__label-arrow:before {content: \"▾\";}#sk-container-id-1 div.sk-estimator input.sk-toggleable__control:checked~label.sk-toggleable__label {background-color: #d4ebff;}#sk-container-id-1 div.sk-label input.sk-toggleable__control:checked~label.sk-toggleable__label {background-color: #d4ebff;}#sk-container-id-1 input.sk-hidden--visually {border: 0;clip: rect(1px 1px 1px 1px);clip: rect(1px, 1px, 1px, 1px);height: 1px;margin: -1px;overflow: hidden;padding: 0;position: absolute;width: 1px;}#sk-container-id-1 div.sk-estimator {font-family: monospace;background-color: #f0f8ff;border: 1px dotted black;border-radius: 0.25em;box-sizing: border-box;margin-bottom: 0.5em;}#sk-container-id-1 div.sk-estimator:hover {background-color: #d4ebff;}#sk-container-id-1 div.sk-parallel-item::after {content: \"\";width: 100%;border-bottom: 1px solid gray;flex-grow: 1;}#sk-container-id-1 div.sk-label:hover label.sk-toggleable__label {background-color: #d4ebff;}#sk-container-id-1 div.sk-serial::before {content: \"\";position: absolute;border-left: 1px solid gray;box-sizing: border-box;top: 0;bottom: 0;left: 50%;z-index: 0;}#sk-container-id-1 div.sk-serial {display: flex;flex-direction: column;align-items: center;background-color: white;padding-right: 0.2em;padding-left: 0.2em;position: relative;}#sk-container-id-1 div.sk-item {position: relative;z-index: 1;}#sk-container-id-1 div.sk-parallel {display: flex;align-items: stretch;justify-content: center;background-color: white;position: relative;}#sk-container-id-1 div.sk-item::before, #sk-container-id-1 div.sk-parallel-item::before {content: \"\";position: absolute;border-left: 1px solid gray;box-sizing: border-box;top: 0;bottom: 0;left: 50%;z-index: -1;}#sk-container-id-1 div.sk-parallel-item {display: flex;flex-direction: column;z-index: 1;position: relative;background-color: white;}#sk-container-id-1 div.sk-parallel-item:first-child::after {align-self: flex-end;width: 50%;}#sk-container-id-1 div.sk-parallel-item:last-child::after {align-self: flex-start;width: 50%;}#sk-container-id-1 div.sk-parallel-item:only-child::after {width: 0;}#sk-container-id-1 div.sk-dashed-wrapped {border: 1px dashed gray;margin: 0 0.4em 0.5em 0.4em;box-sizing: border-box;padding-bottom: 0.4em;background-color: white;}#sk-container-id-1 div.sk-label label {font-family: monospace;font-weight: bold;display: inline-block;line-height: 1.2em;}#sk-container-id-1 div.sk-label-container {text-align: center;}#sk-container-id-1 div.sk-container {/* jupyter's `normalize.less` sets `[hidden] { display: none; }` but bootstrap.min.css set `[hidden] { display: none !important; }` so we also need the `!important` here to be able to override the default hidden behavior on the sphinx rendered scikit-learn.org. See: https://github.com/scikit-learn/scikit-learn/issues/21755 */display: inline-block !important;position: relative;}#sk-container-id-1 div.sk-text-repr-fallback {display: none;}</style><div id=\"sk-container-id-1\" class=\"sk-top-container\"><div class=\"sk-text-repr-fallback\"><pre>FactorAnalyzer(method=&#x27;principal&#x27;, n_factors=2, rotation=&#x27;varimax&#x27;,\n",
              "               rotation_kwargs={})</pre><b>In a Jupyter environment, please rerun this cell to show the HTML representation or trust the notebook. <br />On GitHub, the HTML representation is unable to render, please try loading this page with nbviewer.org.</b></div><div class=\"sk-container\" hidden><div class=\"sk-item\"><div class=\"sk-estimator sk-toggleable\"><input class=\"sk-toggleable__control sk-hidden--visually\" id=\"sk-estimator-id-1\" type=\"checkbox\" checked><label for=\"sk-estimator-id-1\" class=\"sk-toggleable__label sk-toggleable__label-arrow\">FactorAnalyzer</label><div class=\"sk-toggleable__content\"><pre>FactorAnalyzer(method=&#x27;principal&#x27;, n_factors=2, rotation=&#x27;varimax&#x27;,\n",
              "               rotation_kwargs={})</pre></div></div></div></div></div>"
            ]
          },
          "metadata": {},
          "execution_count": 7
        }
      ]
    },
    {
      "cell_type": "markdown",
      "source": [
        "# Resultados"
      ],
      "metadata": {
        "id": "LGDonAfRCWwG"
      }
    },
    {
      "cell_type": "code",
      "source": [
        "# obtener resultados del modelo\n",
        "print(\"Valores propios:\")\n",
        "print(fa.get_eigenvalues()[0])\n",
        "print()\n",
        "print(\"Comunalidades:\")\n",
        "print(fa.get_communalities())\n",
        "print()\n",
        "print(\"Especificidades:\")\n",
        "print(fa.get_uniquenesses())\n",
        "print()\n",
        "print(\"Matriz de cargas:\")\n",
        "print(fa.loadings_)"
      ],
      "metadata": {
        "id": "tQJwf-0cCQGK",
        "colab": {
          "base_uri": "https://localhost:8080/"
        },
        "outputId": "0ecb564d-8df3-41e7-9394-ab85969663d6"
      },
      "execution_count": null,
      "outputs": [
        {
          "output_type": "stream",
          "name": "stdout",
          "text": [
            "Valores propios:\n",
            "[5.06759677 0.6020256  0.44429295 0.36590389 0.26931274 0.13929091\n",
            " 0.11157713]\n",
            "\n",
            "Comunalidades:\n",
            "[0.8632044  0.86854473 0.77623794 0.84827979 0.79619776 0.73826138\n",
            " 0.77889637]\n",
            "\n",
            "Especificidades:\n",
            "[0.1367956  0.13145527 0.22376206 0.15172021 0.20380224 0.26173862\n",
            " 0.22110363]\n",
            "\n",
            "Matriz de cargas:\n",
            "[[0.8399412  0.3971186 ]\n",
            " [0.86109019 0.35646657]\n",
            " [0.81415209 0.33674071]\n",
            " [0.61543129 0.6852183 ]\n",
            " [0.22614824 0.86316553]\n",
            " [0.48965453 0.7060452 ]\n",
            " [0.46668107 0.74906952]]\n"
          ]
        }
      ]
    },
    {
      "cell_type": "code",
      "source": [
        "# comprobar que 1=comunalidades + espedificidades\n",
        "print(fa.get_communalities()+fa.get_uniquenesses())"
      ],
      "metadata": {
        "colab": {
          "base_uri": "https://localhost:8080/"
        },
        "id": "aphbwkz8-i9s",
        "outputId": "79094a15-a611-4bef-c4d1-5ed0da5da29a"
      },
      "execution_count": null,
      "outputs": [
        {
          "output_type": "stream",
          "name": "stdout",
          "text": [
            "[1. 1. 1. 1. 1. 1. 1.]\n"
          ]
        }
      ]
    },
    {
      "cell_type": "code",
      "source": [
        "transformed_df = pd.DataFrame(fa.transform(x_std), columns=['RF1', 'RF2'])\n",
        "transformed_df.to_csv(\"puntuaciones.csv\", index=False)\n",
        "transformed_df.to_excel(\"puntaciones.xlsx\", index=False)"
      ],
      "metadata": {
        "id": "DTfv5QM8-U4q"
      },
      "execution_count": null,
      "outputs": []
    },
    {
      "cell_type": "markdown",
      "source": [
        "El análisis factorial no sirve solo para reducir la dimensionalidad, sino también para encontrar variables latentes.\n",
        "\n",
        "\n",
        "Seleccionar el mejor número de factores es subjetivo. Depende de los datos y su dominio. A veces, no podemos decidir cuál es el mejor número de factores mirando únicamente el gráfico de decantación. La regla de escoger factores con valor propio mayor que la unidad tampoco es una regla estricta. Siempre hay flexibilidad. Lo general es que a menudo debemos mantener un buen equilibrio entre el número de factores, la cantidad de variabilidad explicada por los factores seleccionados y la inteerpretación de los factores."
      ],
      "metadata": {
        "id": "cEH94253IYKq"
      }
    }
  ]
}