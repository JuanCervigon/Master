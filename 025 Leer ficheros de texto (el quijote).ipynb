{
  "cells": [
    {
      "cell_type": "markdown",
      "metadata": {
        "id": "vCZxsRfmmABn"
      },
      "source": [
        "# Trabajar con Ficheros\n",
        "\n",
        "Cómo leer un fichero de texto\n",
        "\n",
        "1. Copiar el fichero en nuestro Drive\n",
        "2. Abrir el fichero en Colab\n",
        "\n",
        "\n",
        "## Copiar el fichero en nuestro Drive\n",
        "\n",
        "Primero nos bajamos el fichero a nuestro ordenador:\n",
        "\n",
        "Abrimos el fichero que está en Internet y nos lo bajamos dando al botón izquierdo y seleccionando `Guardar como...`. Es este caso vamos a darle el nombre de El Quijote\n",
        "\n",
        "https://fegalaz.usc.es/~gamallo/aulas/lingcomputacional/corpus/quijote-es.txt\n",
        "\n",
        "\n",
        "Después copiamos  El Quijote en nuestro Drive\n",
        "\n",
        "\n",
        "## Abrir el fichero en Colab\n",
        "\n",
        "Python permite abrir un fichero sin necesidad de leerlo entero. De esta forma ahorramos memoria ya que no hace falta almacenar todo el fichero en la memoria del ordenador.\n",
        "\n",
        "Por lo tanto tendremos una sentencia para abrir el fichero `open()` y otras sentencias para leer el fichero `read()`\n",
        "\n",
        "\n"
      ]
    },
    {
      "cell_type": "code",
      "source": [
        "# Definir la ruta al un fichero\n",
        "fichero=\"/content/drive/MyDrive/Data/elquijote.txt\"\n"
      ],
      "metadata": {
        "id": "CCCN0-z8sP1E"
      },
      "execution_count": null,
      "outputs": []
    },
    {
      "cell_type": "code",
      "source": [
        "# abrir El Quijote\n",
        "acceso = open(fichero)"
      ],
      "metadata": {
        "id": "aWNlkQso3Ofc"
      },
      "execution_count": null,
      "outputs": []
    },
    {
      "cell_type": "code",
      "source": [
        "# contar las lineas que tiene el fichero\n",
        "acceso = open(fichero)\n",
        "contador = 0\n",
        "for linea in acceso:\n",
        "    contador = contador + 1\n",
        "print('El Quijote tiene', contador, 'lineas')\n"
      ],
      "metadata": {
        "colab": {
          "base_uri": "https://localhost:8080/"
        },
        "id": "ksbhHIHvwTa4",
        "outputId": "2b600bfc-d8ee-40c6-bd25-e763a3a4cafc"
      },
      "execution_count": null,
      "outputs": [
        {
          "output_type": "stream",
          "name": "stdout",
          "text": [
            "El Quijote tiene 2186 lineas\n"
          ]
        }
      ]
    },
    {
      "cell_type": "code",
      "source": [
        "# Leer e imprimir el fichero linea a linea\n",
        "\n",
        "acceso = open(fichero)\n",
        "while True:\n",
        "  linea=acceso.readline()\n",
        "  if not linea:\n",
        "    break\n",
        "  print(linea)"
      ],
      "metadata": {
        "id": "ZciZx3_a0h1m"
      },
      "execution_count": null,
      "outputs": []
    },
    {
      "cell_type": "code",
      "source": [
        "# Almacenar El Quijote en una variable\n",
        "acceso = open(fichero)\n",
        "elquijote = acceso.read()\n"
      ],
      "metadata": {
        "id": "oFodHnD56VUh"
      },
      "execution_count": null,
      "outputs": []
    },
    {
      "cell_type": "code",
      "source": [
        "# Imprimir el contenido de la variable\n",
        "elquijote"
      ],
      "metadata": {
        "id": "gFXn0oPp2eeP"
      },
      "execution_count": null,
      "outputs": []
    },
    {
      "cell_type": "code",
      "source": [
        "# Contar las letras que tiene El Quijote\n",
        "print('El Quijote tiene',len(elquijote),'letras')"
      ],
      "metadata": {
        "id": "jSuVmPrZ6riD",
        "colab": {
          "base_uri": "https://localhost:8080/"
        },
        "outputId": "abd86f42-df89-4914-84c4-b8d859557835"
      },
      "execution_count": null,
      "outputs": [
        {
          "output_type": "stream",
          "name": "stdout",
          "text": [
            "El Quijote tiene 1038397 letras\n"
          ]
        }
      ]
    },
    {
      "cell_type": "code",
      "source": [
        "# Qué tipo de variable es elquijote?\n",
        "type(elquijote)"
      ],
      "metadata": {
        "colab": {
          "base_uri": "https://localhost:8080/"
        },
        "id": "-xpTy79KXAhI",
        "outputId": "a8725664-4e19-497f-d706-a913a7eae494"
      },
      "execution_count": null,
      "outputs": [
        {
          "output_type": "execute_result",
          "data": {
            "text/plain": [
              "str"
            ]
          },
          "metadata": {},
          "execution_count": 8
        }
      ]
    },
    {
      "cell_type": "code",
      "source": [
        "# Crear una lista con las palabras de El Quijote\n",
        "palabras_quijote=elquijote.split()\n"
      ],
      "metadata": {
        "id": "6KANSr8x4u7v"
      },
      "execution_count": null,
      "outputs": []
    },
    {
      "cell_type": "code",
      "source": [
        "print(type(palabras_quijote))\n",
        "print(len(palabras_quijote))"
      ],
      "metadata": {
        "colab": {
          "base_uri": "https://localhost:8080/"
        },
        "id": "Y7W2SJdmYAIJ",
        "outputId": "fccd2d5a-4b2b-4b32-b248-2af553c9bba3"
      },
      "execution_count": null,
      "outputs": [
        {
          "output_type": "stream",
          "name": "stdout",
          "text": [
            "<class 'list'>\n",
            "187018\n"
          ]
        }
      ]
    },
    {
      "cell_type": "code",
      "source": [
        "# La palabra que ocupa la posición 1500\n",
        "\n",
        "palabras_quijote[1500]"
      ],
      "metadata": {
        "colab": {
          "base_uri": "https://localhost:8080/",
          "height": 35
        },
        "id": "J81D3eJ6I0lY",
        "outputId": "582d5387-4f36-4677-de4d-1ff800c0e743"
      },
      "execution_count": null,
      "outputs": [
        {
          "output_type": "execute_result",
          "data": {
            "text/plain": [
              "'tan'"
            ],
            "application/vnd.google.colaboratory.intrinsic+json": {
              "type": "string"
            }
          },
          "metadata": {},
          "execution_count": 11
        }
      ]
    },
    {
      "cell_type": "code",
      "execution_count": null,
      "metadata": {
        "colab": {
          "base_uri": "https://localhost:8080/"
        },
        "id": "glLIdMOmlxo8",
        "outputId": "357980bc-ac42-4766-fd8a-85358e1d9e59"
      },
      "outputs": [
        {
          "output_type": "stream",
          "name": "stdout",
          "text": [
            "La palabra más repetida es: que \n",
            " y se repite  10351 veces\n"
          ]
        }
      ],
      "source": [
        "# La palabra que más se repite de El Quijte\n",
        "\n",
        "# Crear diccionario vacío. Key=palabra, Value=repeticiones\n",
        "veces = dict()\n",
        "\n",
        "# Abrir el fichero\n",
        "acceso = open(fichero)\n",
        "\n",
        "for linea in acceso:\n",
        "    palabras = linea.split()\n",
        "    for palabra in palabras:\n",
        "        veces[palabra] = veces.get(palabra,0) + 1\n",
        "\n",
        "contadormax = None\n",
        "palabramax = None\n",
        "for palabra, contar in list(veces.items()):\n",
        "    if contadormax is None or contar > contadormax:\n",
        "        palabramax= palabra\n",
        "        contadormax= contar\n",
        "\n",
        "print('La palabra más repetida es:', palabramax,'\\n y se repite ', contadormax, 'veces')"
      ]
    },
    {
      "cell_type": "code",
      "source": [
        "# Buscar el número de veces que se repite una palabra\n",
        "buscar='Sancho'\n",
        "print('La palabra', buscar, 'se repite',veces.get(buscar),'veces')\n"
      ],
      "metadata": {
        "colab": {
          "base_uri": "https://localhost:8080/"
        },
        "id": "2IS6fvgCbuqH",
        "outputId": "884a736d-b4d8-4d9d-82d0-f2cb989363e2"
      },
      "execution_count": null,
      "outputs": [
        {
          "output_type": "stream",
          "name": "stdout",
          "text": [
            "La palabra Sancho se repite 312 veces\n"
          ]
        }
      ]
    },
    {
      "cell_type": "code",
      "source": [
        "veces['Dulcinea']"
      ],
      "metadata": {
        "colab": {
          "base_uri": "https://localhost:8080/"
        },
        "id": "gqxEm3RY4ZDY",
        "outputId": "1f5a91a4-1383-4dc3-9176-ed215a332bc7"
      },
      "execution_count": null,
      "outputs": [
        {
          "output_type": "execute_result",
          "data": {
            "text/plain": [
              "45"
            ]
          },
          "metadata": {},
          "execution_count": 14
        }
      ]
    },
    {
      "cell_type": "code",
      "source": [
        "# OJO, la sentencia .split() identifica una palabra cada vez que hay un blanco\n",
        "# 'Dulcinea' y 'Dulcinea.' son palabras diferentes\n",
        "veces['Dulcinea.']"
      ],
      "metadata": {
        "colab": {
          "base_uri": "https://localhost:8080/"
        },
        "id": "jjTChxtq4uDv",
        "outputId": "a65c6b1a-9ad7-4ef4-b639-ff00b0a3aeeb"
      },
      "execution_count": null,
      "outputs": [
        {
          "output_type": "execute_result",
          "data": {
            "text/plain": [
              "6"
            ]
          },
          "metadata": {},
          "execution_count": 15
        }
      ]
    },
    {
      "cell_type": "code",
      "source": [
        "# Ver el contenido del diccionario 'veces'\n",
        "veces"
      ],
      "metadata": {
        "id": "HreSKGND4Jtc"
      },
      "execution_count": null,
      "outputs": []
    },
    {
      "cell_type": "code",
      "source": [
        "a='hola, hola. adios'\n",
        "a.split('.')"
      ],
      "metadata": {
        "colab": {
          "base_uri": "https://localhost:8080/"
        },
        "id": "lccFm3qF7yqq",
        "outputId": "dd76f763-5313-410b-9a1a-d29c2be87578"
      },
      "execution_count": null,
      "outputs": [
        {
          "output_type": "execute_result",
          "data": {
            "text/plain": [
              "['hola, hola', ' adios']"
            ]
          },
          "metadata": {},
          "execution_count": 17
        }
      ]
    },
    {
      "cell_type": "code",
      "source": [
        "a='hola, hola. adios'\n",
        "a.replace('.',' ').split()"
      ],
      "metadata": {
        "colab": {
          "base_uri": "https://localhost:8080/"
        },
        "id": "DKyyLRCc8pHh",
        "outputId": "bb514288-e0f0-4e5b-a761-209ac9f7b2c9"
      },
      "execution_count": null,
      "outputs": [
        {
          "output_type": "execute_result",
          "data": {
            "text/plain": [
              "['hola,', 'hola', 'adios']"
            ]
          },
          "metadata": {},
          "execution_count": 18
        }
      ]
    },
    {
      "cell_type": "code",
      "source": [
        "a='hola, hola. adios'\n",
        "simbolos=['.',',']\n",
        "for s in simbolos:\n",
        "  a=a.replace(s,' ')\n",
        "print(a)\n",
        "print(a.split())\n"
      ],
      "metadata": {
        "colab": {
          "base_uri": "https://localhost:8080/"
        },
        "id": "LTiR380f9_aS",
        "outputId": "37039ace-f879-4065-bf4b-90c85b43b4c6"
      },
      "execution_count": null,
      "outputs": [
        {
          "output_type": "stream",
          "name": "stdout",
          "text": [
            "hola  hola  adios\n",
            "['hola', 'hola', 'adios']\n"
          ]
        }
      ]
    },
    {
      "cell_type": "code",
      "source": [
        "# Contar las palabras eliminando los simbolos\n",
        "\n",
        "simbolos = ['¿','?','.',',',';',':','¡','!','-','(',')']\n",
        "numpalabras = 0\n",
        "with open(fichero,'r') as acceso:\n",
        "    for linea in acceso:\n",
        "        for simbolo in simbolos:\n",
        "            linea = linea.replace(simbolo,' ')\n",
        "        palabras = linea.split()\n",
        "        for palabra in palabras:\n",
        "            numpalabras += 1\n",
        "print('El Quijote tiene %s palabras' %numpalabras)\n"
      ],
      "metadata": {
        "id": "431Eao5A9if3",
        "colab": {
          "base_uri": "https://localhost:8080/"
        },
        "outputId": "a548738f-62d6-4ea5-eb30-60107c8ac2a0"
      },
      "execution_count": null,
      "outputs": [
        {
          "output_type": "stream",
          "name": "stdout",
          "text": [
            "El texto contiene 187080 palabras\n"
          ]
        }
      ]
    },
    {
      "cell_type": "code",
      "source": [
        "# Otra forma de usar print\n",
        "\n",
        "print(f'El Quijote tiene {numpalabras} palabras')"
      ],
      "metadata": {
        "colab": {
          "base_uri": "https://localhost:8080/"
        },
        "id": "AfAYTtfMGeLJ",
        "outputId": "12d9fc52-1911-41cb-abec-e491eee236a0"
      },
      "execution_count": null,
      "outputs": [
        {
          "output_type": "stream",
          "name": "stdout",
          "text": [
            "El Quijote tiene 187080 palabras\n"
          ]
        }
      ]
    },
    {
      "cell_type": "code",
      "source": [
        "# Otra\n",
        "\n",
        "print('El Quijote tiene',numpalabras, 'palabras')"
      ],
      "metadata": {
        "id": "hI5G01-5HJdy",
        "colab": {
          "base_uri": "https://localhost:8080/"
        },
        "outputId": "d958f3f2-ddfa-44a2-877e-30461f559e23"
      },
      "execution_count": null,
      "outputs": [
        {
          "output_type": "stream",
          "name": "stdout",
          "text": [
            "El Quijote tiene 187080 palabras\n"
          ]
        }
      ]
    }
  ],
  "metadata": {
    "colab": {
      "provenance": [],
      "toc_visible": true,
      "mount_file_id": "1Ct7Yfju3TYGg3Bi4LY-1rb2TvmG_KEiu",
      "authorship_tag": "ABX9TyPhgOFQR8Y7THt7jj6xiQSf"
    },
    "kernelspec": {
      "display_name": "Python 3",
      "name": "python3"
    },
    "language_info": {
      "name": "python"
    }
  },
  "nbformat": 4,
  "nbformat_minor": 0
}