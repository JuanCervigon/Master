{
  "nbformat": 4,
  "nbformat_minor": 0,
  "metadata": {
    "colab": {
      "provenance": [],
      "authorship_tag": "ABX9TyNVFFwjDazhsfM18GZ0rxSF",
      "include_colab_link": true
    },
    "kernelspec": {
      "name": "python3",
      "display_name": "Python 3"
    },
    "language_info": {
      "name": "python"
    }
  },
  "cells": [
    {
      "cell_type": "markdown",
      "metadata": {
        "id": "view-in-github",
        "colab_type": "text"
      },
      "source": [
        "<a href=\"https://colab.research.google.com/github/JuanCervigon/Master/blob/main/032_Ejercicio.ipynb\" target=\"_parent\"><img src=\"https://colab.research.google.com/assets/colab-badge.svg\" alt=\"Open In Colab\"/></a>"
      ]
    },
    {
      "cell_type": "markdown",
      "source": [
        "Importar las librerias requeridas\n",
        "* Numpy\n",
        "* Matplotlib"
      ],
      "metadata": {
        "id": "0ml833L5dCZ9"
      }
    },
    {
      "cell_type": "markdown",
      "source": [
        "Definir los datos (x,y) en dos arrays\n",
        "\n",
        "Definir los parámetros de una recta y obtener los valores de la recta a partir de x\n",
        "\n",
        "Es dedir, definir:\n",
        "\n",
        "* x\n",
        "* y\n",
        "* betas (ordenada en el origen y pendiente)\n",
        "\n",
        "y calcular\n",
        "* recta\n",
        "\n",
        "\n"
      ],
      "metadata": {
        "id": "z2grmxuNdUFG"
      }
    },
    {
      "cell_type": "markdown",
      "source": [
        "Hacer un gráfico con los puntos y la recta. Usar\n",
        "\n",
        "* scatter\n",
        "* plot\n",
        "* grid(True)\n",
        "* annotate\n",
        "\n",
        "\n"
      ],
      "metadata": {
        "id": "hvf49mdud-1r"
      }
    },
    {
      "cell_type": "markdown",
      "source": [
        "Calcular la suma de los errores al cuadrado\n",
        "sse (sum of squared errors)"
      ],
      "metadata": {
        "id": "13L6Wzj6eRF1"
      }
    },
    {
      "cell_type": "markdown",
      "source": [
        "Definir una función para calcular sse\n",
        "\n",
        "```\n",
        "def sse(b,x,y):\n",
        "  recta=b[0]+b[1]*x\n",
        "  return sum((y-recta)**2)`\n",
        "```\n",
        "\n"
      ],
      "metadata": {
        "id": "aTImkwOZefJI"
      }
    },
    {
      "cell_type": "markdown",
      "source": [
        "Importar scipy\n",
        "\n",
        "optimizar la función\n",
        "\n",
        "```\n",
        "sp.optimize.minimize(sse,[0,0],args=(x,y))\n",
        "```\n"
      ],
      "metadata": {
        "id": "6_Kp_YdufPWq"
      }
    }
  ]
}